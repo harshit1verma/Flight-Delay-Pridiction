{
  "cells": [
    {
      "cell_type": "code",
      "execution_count": 1,
      "metadata": {},
      "outputs": [],
      "source": [
        "def warn(*args, **kwargs):\n",
        "    pass\n",
        "import warnings\n",
        "warnings.warn = warn"
      ]
    },
    {
      "cell_type": "markdown",
      "metadata": {},
      "source": [
        "# Importing dataset"
      ]
    },
    {
      "cell_type": "code",
      "execution_count": 2,
      "metadata": {
        "trusted": true
      },
      "outputs": [
        {
          "data": {
            "text/html": [
              "<div>\n",
              "<style scoped>\n",
              "    .dataframe tbody tr th:only-of-type {\n",
              "        vertical-align: middle;\n",
              "    }\n",
              "\n",
              "    .dataframe tbody tr th {\n",
              "        vertical-align: top;\n",
              "    }\n",
              "\n",
              "    .dataframe thead th {\n",
              "        text-align: right;\n",
              "    }\n",
              "</style>\n",
              "<table border=\"1\" class=\"dataframe\">\n",
              "  <thead>\n",
              "    <tr style=\"text-align: right;\">\n",
              "      <th></th>\n",
              "      <th>YEAR</th>\n",
              "      <th>QUARTER</th>\n",
              "      <th>MONTH</th>\n",
              "      <th>DAY_OF_MONTH</th>\n",
              "      <th>DAY_OF_WEEK</th>\n",
              "      <th>UNIQUE_CARRIER</th>\n",
              "      <th>TAIL_NUM</th>\n",
              "      <th>FL_NUM</th>\n",
              "      <th>ORIGIN_AIRPORT_ID</th>\n",
              "      <th>ORIGIN</th>\n",
              "      <th>...</th>\n",
              "      <th>CRS_ARR_TIME</th>\n",
              "      <th>ARR_TIME</th>\n",
              "      <th>ARR_DELAY</th>\n",
              "      <th>ARR_DEL15</th>\n",
              "      <th>CANCELLED</th>\n",
              "      <th>DIVERTED</th>\n",
              "      <th>CRS_ELAPSED_TIME</th>\n",
              "      <th>ACTUAL_ELAPSED_TIME</th>\n",
              "      <th>DISTANCE</th>\n",
              "      <th>Unnamed: 25</th>\n",
              "    </tr>\n",
              "  </thead>\n",
              "  <tbody>\n",
              "    <tr>\n",
              "      <th>0</th>\n",
              "      <td>2016</td>\n",
              "      <td>1</td>\n",
              "      <td>1</td>\n",
              "      <td>1</td>\n",
              "      <td>5</td>\n",
              "      <td>DL</td>\n",
              "      <td>N836DN</td>\n",
              "      <td>1399</td>\n",
              "      <td>10397</td>\n",
              "      <td>ATL</td>\n",
              "      <td>...</td>\n",
              "      <td>2143</td>\n",
              "      <td>2102.0</td>\n",
              "      <td>-41.0</td>\n",
              "      <td>0.0</td>\n",
              "      <td>0.0</td>\n",
              "      <td>0.0</td>\n",
              "      <td>338.0</td>\n",
              "      <td>295.0</td>\n",
              "      <td>2182.0</td>\n",
              "      <td>NaN</td>\n",
              "    </tr>\n",
              "    <tr>\n",
              "      <th>1</th>\n",
              "      <td>2016</td>\n",
              "      <td>1</td>\n",
              "      <td>1</td>\n",
              "      <td>1</td>\n",
              "      <td>5</td>\n",
              "      <td>DL</td>\n",
              "      <td>N964DN</td>\n",
              "      <td>1476</td>\n",
              "      <td>11433</td>\n",
              "      <td>DTW</td>\n",
              "      <td>...</td>\n",
              "      <td>1435</td>\n",
              "      <td>1439.0</td>\n",
              "      <td>4.0</td>\n",
              "      <td>0.0</td>\n",
              "      <td>0.0</td>\n",
              "      <td>0.0</td>\n",
              "      <td>110.0</td>\n",
              "      <td>115.0</td>\n",
              "      <td>528.0</td>\n",
              "      <td>NaN</td>\n",
              "    </tr>\n",
              "    <tr>\n",
              "      <th>2</th>\n",
              "      <td>2016</td>\n",
              "      <td>1</td>\n",
              "      <td>1</td>\n",
              "      <td>1</td>\n",
              "      <td>5</td>\n",
              "      <td>DL</td>\n",
              "      <td>N813DN</td>\n",
              "      <td>1597</td>\n",
              "      <td>10397</td>\n",
              "      <td>ATL</td>\n",
              "      <td>...</td>\n",
              "      <td>1215</td>\n",
              "      <td>1142.0</td>\n",
              "      <td>-33.0</td>\n",
              "      <td>0.0</td>\n",
              "      <td>0.0</td>\n",
              "      <td>0.0</td>\n",
              "      <td>335.0</td>\n",
              "      <td>300.0</td>\n",
              "      <td>2182.0</td>\n",
              "      <td>NaN</td>\n",
              "    </tr>\n",
              "    <tr>\n",
              "      <th>3</th>\n",
              "      <td>2016</td>\n",
              "      <td>1</td>\n",
              "      <td>1</td>\n",
              "      <td>1</td>\n",
              "      <td>5</td>\n",
              "      <td>DL</td>\n",
              "      <td>N587NW</td>\n",
              "      <td>1768</td>\n",
              "      <td>14747</td>\n",
              "      <td>SEA</td>\n",
              "      <td>...</td>\n",
              "      <td>1335</td>\n",
              "      <td>1345.0</td>\n",
              "      <td>10.0</td>\n",
              "      <td>0.0</td>\n",
              "      <td>0.0</td>\n",
              "      <td>0.0</td>\n",
              "      <td>196.0</td>\n",
              "      <td>205.0</td>\n",
              "      <td>1399.0</td>\n",
              "      <td>NaN</td>\n",
              "    </tr>\n",
              "    <tr>\n",
              "      <th>4</th>\n",
              "      <td>2016</td>\n",
              "      <td>1</td>\n",
              "      <td>1</td>\n",
              "      <td>1</td>\n",
              "      <td>5</td>\n",
              "      <td>DL</td>\n",
              "      <td>N836DN</td>\n",
              "      <td>1823</td>\n",
              "      <td>14747</td>\n",
              "      <td>SEA</td>\n",
              "      <td>...</td>\n",
              "      <td>607</td>\n",
              "      <td>615.0</td>\n",
              "      <td>8.0</td>\n",
              "      <td>0.0</td>\n",
              "      <td>0.0</td>\n",
              "      <td>0.0</td>\n",
              "      <td>247.0</td>\n",
              "      <td>259.0</td>\n",
              "      <td>1927.0</td>\n",
              "      <td>NaN</td>\n",
              "    </tr>\n",
              "  </tbody>\n",
              "</table>\n",
              "<p>5 rows × 26 columns</p>\n",
              "</div>"
            ],
            "text/plain": [
              "   YEAR  QUARTER  MONTH  DAY_OF_MONTH  DAY_OF_WEEK UNIQUE_CARRIER TAIL_NUM  \\\n",
              "0  2016        1      1             1            5             DL   N836DN   \n",
              "1  2016        1      1             1            5             DL   N964DN   \n",
              "2  2016        1      1             1            5             DL   N813DN   \n",
              "3  2016        1      1             1            5             DL   N587NW   \n",
              "4  2016        1      1             1            5             DL   N836DN   \n",
              "\n",
              "   FL_NUM  ORIGIN_AIRPORT_ID ORIGIN  ...  CRS_ARR_TIME ARR_TIME  ARR_DELAY  \\\n",
              "0    1399              10397    ATL  ...          2143   2102.0      -41.0   \n",
              "1    1476              11433    DTW  ...          1435   1439.0        4.0   \n",
              "2    1597              10397    ATL  ...          1215   1142.0      -33.0   \n",
              "3    1768              14747    SEA  ...          1335   1345.0       10.0   \n",
              "4    1823              14747    SEA  ...           607    615.0        8.0   \n",
              "\n",
              "   ARR_DEL15  CANCELLED  DIVERTED  CRS_ELAPSED_TIME  ACTUAL_ELAPSED_TIME  \\\n",
              "0        0.0        0.0       0.0             338.0                295.0   \n",
              "1        0.0        0.0       0.0             110.0                115.0   \n",
              "2        0.0        0.0       0.0             335.0                300.0   \n",
              "3        0.0        0.0       0.0             196.0                205.0   \n",
              "4        0.0        0.0       0.0             247.0                259.0   \n",
              "\n",
              "   DISTANCE  Unnamed: 25  \n",
              "0    2182.0          NaN  \n",
              "1     528.0          NaN  \n",
              "2    2182.0          NaN  \n",
              "3    1399.0          NaN  \n",
              "4    1927.0          NaN  \n",
              "\n",
              "[5 rows x 26 columns]"
            ]
          },
          "execution_count": 2,
          "metadata": {},
          "output_type": "execute_result"
        }
      ],
      "source": [
        "import pandas as pd\n",
        "\n",
        "df = pd.read_csv('C:/3-Programming/Flight-Delay-Pridiction-main/flightdata.csv')\n",
        "df.head()"
      ]
    },
    {
      "cell_type": "markdown",
      "metadata": {},
      "source": [
        "## Getting row and column count"
      ]
    },
    {
      "cell_type": "code",
      "execution_count": 3,
      "metadata": {
        "trusted": true
      },
      "outputs": [
        {
          "data": {
            "text/plain": [
              "(11231, 26)"
            ]
          },
          "execution_count": 3,
          "metadata": {},
          "output_type": "execute_result"
        }
      ],
      "source": [
        "df.shape"
      ]
    },
    {
      "cell_type": "markdown",
      "metadata": {},
      "source": [
        "# Analysing Dataset"
      ]
    },
    {
      "cell_type": "markdown",
      "metadata": {},
      "source": [
        "## Checking for missing values"
      ]
    },
    {
      "cell_type": "code",
      "execution_count": 4,
      "metadata": {
        "trusted": true
      },
      "outputs": [
        {
          "data": {
            "text/plain": [
              "True"
            ]
          },
          "execution_count": 4,
          "metadata": {},
          "output_type": "execute_result"
        }
      ],
      "source": [
        "df.isnull().values.any()"
      ]
    },
    {
      "cell_type": "markdown",
      "metadata": {},
      "source": [
        "## Number of missing values in each column"
      ]
    },
    {
      "cell_type": "code",
      "execution_count": 5,
      "metadata": {
        "trusted": true
      },
      "outputs": [
        {
          "data": {
            "text/plain": [
              "YEAR                       0\n",
              "QUARTER                    0\n",
              "MONTH                      0\n",
              "DAY_OF_MONTH               0\n",
              "DAY_OF_WEEK                0\n",
              "UNIQUE_CARRIER             0\n",
              "TAIL_NUM                   0\n",
              "FL_NUM                     0\n",
              "ORIGIN_AIRPORT_ID          0\n",
              "ORIGIN                     0\n",
              "DEST_AIRPORT_ID            0\n",
              "DEST                       0\n",
              "CRS_DEP_TIME               0\n",
              "DEP_TIME                 107\n",
              "DEP_DELAY                107\n",
              "DEP_DEL15                107\n",
              "CRS_ARR_TIME               0\n",
              "ARR_TIME                 115\n",
              "ARR_DELAY                188\n",
              "ARR_DEL15                188\n",
              "CANCELLED                  0\n",
              "DIVERTED                   0\n",
              "CRS_ELAPSED_TIME           0\n",
              "ACTUAL_ELAPSED_TIME      188\n",
              "DISTANCE                   0\n",
              "Unnamed: 25            11231\n",
              "dtype: int64"
            ]
          },
          "execution_count": 5,
          "metadata": {},
          "output_type": "execute_result"
        }
      ],
      "source": [
        "df.isnull().sum()"
      ]
    },
    {
      "cell_type": "markdown",
      "metadata": {},
      "source": [
        "# Cleaning Dataset"
      ]
    },
    {
      "cell_type": "markdown",
      "metadata": {},
      "source": [
        "## Removing column"
      ]
    },
    {
      "cell_type": "code",
      "execution_count": 6,
      "metadata": {
        "trusted": true
      },
      "outputs": [
        {
          "data": {
            "text/html": [
              "<div>\n",
              "<style scoped>\n",
              "    .dataframe tbody tr th:only-of-type {\n",
              "        vertical-align: middle;\n",
              "    }\n",
              "\n",
              "    .dataframe tbody tr th {\n",
              "        vertical-align: top;\n",
              "    }\n",
              "\n",
              "    .dataframe thead th {\n",
              "        text-align: right;\n",
              "    }\n",
              "</style>\n",
              "<table border=\"1\" class=\"dataframe\">\n",
              "  <thead>\n",
              "    <tr style=\"text-align: right;\">\n",
              "      <th></th>\n",
              "      <th>YEAR</th>\n",
              "      <th>QUARTER</th>\n",
              "      <th>MONTH</th>\n",
              "      <th>DAY_OF_MONTH</th>\n",
              "      <th>DAY_OF_WEEK</th>\n",
              "      <th>UNIQUE_CARRIER</th>\n",
              "      <th>TAIL_NUM</th>\n",
              "      <th>FL_NUM</th>\n",
              "      <th>ORIGIN_AIRPORT_ID</th>\n",
              "      <th>ORIGIN</th>\n",
              "      <th>...</th>\n",
              "      <th>DEP_DEL15</th>\n",
              "      <th>CRS_ARR_TIME</th>\n",
              "      <th>ARR_TIME</th>\n",
              "      <th>ARR_DELAY</th>\n",
              "      <th>ARR_DEL15</th>\n",
              "      <th>CANCELLED</th>\n",
              "      <th>DIVERTED</th>\n",
              "      <th>CRS_ELAPSED_TIME</th>\n",
              "      <th>ACTUAL_ELAPSED_TIME</th>\n",
              "      <th>DISTANCE</th>\n",
              "    </tr>\n",
              "  </thead>\n",
              "  <tbody>\n",
              "    <tr>\n",
              "      <th>0</th>\n",
              "      <td>2016</td>\n",
              "      <td>1</td>\n",
              "      <td>1</td>\n",
              "      <td>1</td>\n",
              "      <td>5</td>\n",
              "      <td>DL</td>\n",
              "      <td>N836DN</td>\n",
              "      <td>1399</td>\n",
              "      <td>10397</td>\n",
              "      <td>ATL</td>\n",
              "      <td>...</td>\n",
              "      <td>0.0</td>\n",
              "      <td>2143</td>\n",
              "      <td>2102.0</td>\n",
              "      <td>-41.0</td>\n",
              "      <td>0.0</td>\n",
              "      <td>0.0</td>\n",
              "      <td>0.0</td>\n",
              "      <td>338.0</td>\n",
              "      <td>295.0</td>\n",
              "      <td>2182.0</td>\n",
              "    </tr>\n",
              "    <tr>\n",
              "      <th>1</th>\n",
              "      <td>2016</td>\n",
              "      <td>1</td>\n",
              "      <td>1</td>\n",
              "      <td>1</td>\n",
              "      <td>5</td>\n",
              "      <td>DL</td>\n",
              "      <td>N964DN</td>\n",
              "      <td>1476</td>\n",
              "      <td>11433</td>\n",
              "      <td>DTW</td>\n",
              "      <td>...</td>\n",
              "      <td>0.0</td>\n",
              "      <td>1435</td>\n",
              "      <td>1439.0</td>\n",
              "      <td>4.0</td>\n",
              "      <td>0.0</td>\n",
              "      <td>0.0</td>\n",
              "      <td>0.0</td>\n",
              "      <td>110.0</td>\n",
              "      <td>115.0</td>\n",
              "      <td>528.0</td>\n",
              "    </tr>\n",
              "    <tr>\n",
              "      <th>2</th>\n",
              "      <td>2016</td>\n",
              "      <td>1</td>\n",
              "      <td>1</td>\n",
              "      <td>1</td>\n",
              "      <td>5</td>\n",
              "      <td>DL</td>\n",
              "      <td>N813DN</td>\n",
              "      <td>1597</td>\n",
              "      <td>10397</td>\n",
              "      <td>ATL</td>\n",
              "      <td>...</td>\n",
              "      <td>0.0</td>\n",
              "      <td>1215</td>\n",
              "      <td>1142.0</td>\n",
              "      <td>-33.0</td>\n",
              "      <td>0.0</td>\n",
              "      <td>0.0</td>\n",
              "      <td>0.0</td>\n",
              "      <td>335.0</td>\n",
              "      <td>300.0</td>\n",
              "      <td>2182.0</td>\n",
              "    </tr>\n",
              "    <tr>\n",
              "      <th>3</th>\n",
              "      <td>2016</td>\n",
              "      <td>1</td>\n",
              "      <td>1</td>\n",
              "      <td>1</td>\n",
              "      <td>5</td>\n",
              "      <td>DL</td>\n",
              "      <td>N587NW</td>\n",
              "      <td>1768</td>\n",
              "      <td>14747</td>\n",
              "      <td>SEA</td>\n",
              "      <td>...</td>\n",
              "      <td>0.0</td>\n",
              "      <td>1335</td>\n",
              "      <td>1345.0</td>\n",
              "      <td>10.0</td>\n",
              "      <td>0.0</td>\n",
              "      <td>0.0</td>\n",
              "      <td>0.0</td>\n",
              "      <td>196.0</td>\n",
              "      <td>205.0</td>\n",
              "      <td>1399.0</td>\n",
              "    </tr>\n",
              "    <tr>\n",
              "      <th>4</th>\n",
              "      <td>2016</td>\n",
              "      <td>1</td>\n",
              "      <td>1</td>\n",
              "      <td>1</td>\n",
              "      <td>5</td>\n",
              "      <td>DL</td>\n",
              "      <td>N836DN</td>\n",
              "      <td>1823</td>\n",
              "      <td>14747</td>\n",
              "      <td>SEA</td>\n",
              "      <td>...</td>\n",
              "      <td>0.0</td>\n",
              "      <td>607</td>\n",
              "      <td>615.0</td>\n",
              "      <td>8.0</td>\n",
              "      <td>0.0</td>\n",
              "      <td>0.0</td>\n",
              "      <td>0.0</td>\n",
              "      <td>247.0</td>\n",
              "      <td>259.0</td>\n",
              "      <td>1927.0</td>\n",
              "    </tr>\n",
              "  </tbody>\n",
              "</table>\n",
              "<p>5 rows × 25 columns</p>\n",
              "</div>"
            ],
            "text/plain": [
              "   YEAR  QUARTER  MONTH  DAY_OF_MONTH  DAY_OF_WEEK UNIQUE_CARRIER TAIL_NUM  \\\n",
              "0  2016        1      1             1            5             DL   N836DN   \n",
              "1  2016        1      1             1            5             DL   N964DN   \n",
              "2  2016        1      1             1            5             DL   N813DN   \n",
              "3  2016        1      1             1            5             DL   N587NW   \n",
              "4  2016        1      1             1            5             DL   N836DN   \n",
              "\n",
              "   FL_NUM  ORIGIN_AIRPORT_ID ORIGIN  ...  DEP_DEL15 CRS_ARR_TIME  ARR_TIME  \\\n",
              "0    1399              10397    ATL  ...        0.0         2143    2102.0   \n",
              "1    1476              11433    DTW  ...        0.0         1435    1439.0   \n",
              "2    1597              10397    ATL  ...        0.0         1215    1142.0   \n",
              "3    1768              14747    SEA  ...        0.0         1335    1345.0   \n",
              "4    1823              14747    SEA  ...        0.0          607     615.0   \n",
              "\n",
              "   ARR_DELAY  ARR_DEL15  CANCELLED  DIVERTED  CRS_ELAPSED_TIME  \\\n",
              "0      -41.0        0.0        0.0       0.0             338.0   \n",
              "1        4.0        0.0        0.0       0.0             110.0   \n",
              "2      -33.0        0.0        0.0       0.0             335.0   \n",
              "3       10.0        0.0        0.0       0.0             196.0   \n",
              "4        8.0        0.0        0.0       0.0             247.0   \n",
              "\n",
              "   ACTUAL_ELAPSED_TIME  DISTANCE  \n",
              "0                295.0    2182.0  \n",
              "1                115.0     528.0  \n",
              "2                300.0    2182.0  \n",
              "3                205.0    1399.0  \n",
              "4                259.0    1927.0  \n",
              "\n",
              "[5 rows x 25 columns]"
            ]
          },
          "execution_count": 6,
          "metadata": {},
          "output_type": "execute_result"
        }
      ],
      "source": [
        "df = df.drop('Unnamed: 25', axis=1)\n",
        "df.head()"
      ]
    },
    {
      "cell_type": "markdown",
      "metadata": {},
      "source": [
        "## Filtering DataFrame"
      ]
    },
    {
      "cell_type": "code",
      "execution_count": 7,
      "metadata": {
        "trusted": true
      },
      "outputs": [
        {
          "data": {
            "text/plain": [
              "MONTH             0\n",
              "DAY_OF_MONTH      0\n",
              "DAY_OF_WEEK       0\n",
              "ORIGIN            0\n",
              "DEST              0\n",
              "CRS_DEP_TIME      0\n",
              "ARR_DEL15       188\n",
              "dtype: int64"
            ]
          },
          "execution_count": 7,
          "metadata": {},
          "output_type": "execute_result"
        }
      ],
      "source": [
        "df = df[[\"MONTH\", \"DAY_OF_MONTH\", \"DAY_OF_WEEK\", \"ORIGIN\", \"DEST\", \"CRS_DEP_TIME\", \"ARR_DEL15\"]]\n",
        "df.isnull().sum()"
      ]
    },
    {
      "cell_type": "markdown",
      "metadata": {},
      "source": [
        "# Preparing dataset for machine learning model"
      ]
    },
    {
      "cell_type": "markdown",
      "metadata": {},
      "source": [
        "## Rows with missing values"
      ]
    },
    {
      "cell_type": "code",
      "execution_count": 8,
      "metadata": {
        "trusted": true
      },
      "outputs": [
        {
          "data": {
            "text/html": [
              "<div>\n",
              "<style scoped>\n",
              "    .dataframe tbody tr th:only-of-type {\n",
              "        vertical-align: middle;\n",
              "    }\n",
              "\n",
              "    .dataframe tbody tr th {\n",
              "        vertical-align: top;\n",
              "    }\n",
              "\n",
              "    .dataframe thead th {\n",
              "        text-align: right;\n",
              "    }\n",
              "</style>\n",
              "<table border=\"1\" class=\"dataframe\">\n",
              "  <thead>\n",
              "    <tr style=\"text-align: right;\">\n",
              "      <th></th>\n",
              "      <th>MONTH</th>\n",
              "      <th>DAY_OF_MONTH</th>\n",
              "      <th>DAY_OF_WEEK</th>\n",
              "      <th>ORIGIN</th>\n",
              "      <th>DEST</th>\n",
              "      <th>CRS_DEP_TIME</th>\n",
              "      <th>ARR_DEL15</th>\n",
              "    </tr>\n",
              "  </thead>\n",
              "  <tbody>\n",
              "    <tr>\n",
              "      <th>177</th>\n",
              "      <td>1</td>\n",
              "      <td>9</td>\n",
              "      <td>6</td>\n",
              "      <td>MSP</td>\n",
              "      <td>SEA</td>\n",
              "      <td>701</td>\n",
              "      <td>NaN</td>\n",
              "    </tr>\n",
              "    <tr>\n",
              "      <th>179</th>\n",
              "      <td>1</td>\n",
              "      <td>10</td>\n",
              "      <td>7</td>\n",
              "      <td>MSP</td>\n",
              "      <td>DTW</td>\n",
              "      <td>1348</td>\n",
              "      <td>NaN</td>\n",
              "    </tr>\n",
              "    <tr>\n",
              "      <th>184</th>\n",
              "      <td>1</td>\n",
              "      <td>10</td>\n",
              "      <td>7</td>\n",
              "      <td>MSP</td>\n",
              "      <td>DTW</td>\n",
              "      <td>625</td>\n",
              "      <td>NaN</td>\n",
              "    </tr>\n",
              "    <tr>\n",
              "      <th>210</th>\n",
              "      <td>1</td>\n",
              "      <td>10</td>\n",
              "      <td>7</td>\n",
              "      <td>DTW</td>\n",
              "      <td>MSP</td>\n",
              "      <td>1200</td>\n",
              "      <td>NaN</td>\n",
              "    </tr>\n",
              "    <tr>\n",
              "      <th>478</th>\n",
              "      <td>1</td>\n",
              "      <td>22</td>\n",
              "      <td>5</td>\n",
              "      <td>SEA</td>\n",
              "      <td>JFK</td>\n",
              "      <td>2305</td>\n",
              "      <td>NaN</td>\n",
              "    </tr>\n",
              "  </tbody>\n",
              "</table>\n",
              "</div>"
            ],
            "text/plain": [
              "     MONTH  DAY_OF_MONTH  DAY_OF_WEEK ORIGIN DEST  CRS_DEP_TIME  ARR_DEL15\n",
              "177      1             9            6    MSP  SEA           701        NaN\n",
              "179      1            10            7    MSP  DTW          1348        NaN\n",
              "184      1            10            7    MSP  DTW           625        NaN\n",
              "210      1            10            7    DTW  MSP          1200        NaN\n",
              "478      1            22            5    SEA  JFK          2305        NaN"
            ]
          },
          "execution_count": 8,
          "metadata": {},
          "output_type": "execute_result"
        }
      ],
      "source": [
        "df[df.isnull().values].head()"
      ]
    },
    {
      "cell_type": "markdown",
      "metadata": {},
      "source": [
        "## Replacing NaNs with 1s"
      ]
    },
    {
      "cell_type": "code",
      "execution_count": 9,
      "metadata": {
        "trusted": true
      },
      "outputs": [
        {
          "data": {
            "text/html": [
              "<div>\n",
              "<style scoped>\n",
              "    .dataframe tbody tr th:only-of-type {\n",
              "        vertical-align: middle;\n",
              "    }\n",
              "\n",
              "    .dataframe tbody tr th {\n",
              "        vertical-align: top;\n",
              "    }\n",
              "\n",
              "    .dataframe thead th {\n",
              "        text-align: right;\n",
              "    }\n",
              "</style>\n",
              "<table border=\"1\" class=\"dataframe\">\n",
              "  <thead>\n",
              "    <tr style=\"text-align: right;\">\n",
              "      <th></th>\n",
              "      <th>MONTH</th>\n",
              "      <th>DAY_OF_MONTH</th>\n",
              "      <th>DAY_OF_WEEK</th>\n",
              "      <th>ORIGIN</th>\n",
              "      <th>DEST</th>\n",
              "      <th>CRS_DEP_TIME</th>\n",
              "      <th>ARR_DEL15</th>\n",
              "    </tr>\n",
              "  </thead>\n",
              "  <tbody>\n",
              "    <tr>\n",
              "      <th>177</th>\n",
              "      <td>1</td>\n",
              "      <td>9</td>\n",
              "      <td>6</td>\n",
              "      <td>MSP</td>\n",
              "      <td>SEA</td>\n",
              "      <td>701</td>\n",
              "      <td>1.0</td>\n",
              "    </tr>\n",
              "    <tr>\n",
              "      <th>178</th>\n",
              "      <td>1</td>\n",
              "      <td>9</td>\n",
              "      <td>6</td>\n",
              "      <td>DTW</td>\n",
              "      <td>JFK</td>\n",
              "      <td>1527</td>\n",
              "      <td>0.0</td>\n",
              "    </tr>\n",
              "    <tr>\n",
              "      <th>179</th>\n",
              "      <td>1</td>\n",
              "      <td>10</td>\n",
              "      <td>7</td>\n",
              "      <td>MSP</td>\n",
              "      <td>DTW</td>\n",
              "      <td>1348</td>\n",
              "      <td>1.0</td>\n",
              "    </tr>\n",
              "    <tr>\n",
              "      <th>180</th>\n",
              "      <td>1</td>\n",
              "      <td>10</td>\n",
              "      <td>7</td>\n",
              "      <td>DTW</td>\n",
              "      <td>MSP</td>\n",
              "      <td>1540</td>\n",
              "      <td>0.0</td>\n",
              "    </tr>\n",
              "    <tr>\n",
              "      <th>181</th>\n",
              "      <td>1</td>\n",
              "      <td>10</td>\n",
              "      <td>7</td>\n",
              "      <td>JFK</td>\n",
              "      <td>ATL</td>\n",
              "      <td>1325</td>\n",
              "      <td>0.0</td>\n",
              "    </tr>\n",
              "    <tr>\n",
              "      <th>182</th>\n",
              "      <td>1</td>\n",
              "      <td>10</td>\n",
              "      <td>7</td>\n",
              "      <td>JFK</td>\n",
              "      <td>ATL</td>\n",
              "      <td>610</td>\n",
              "      <td>0.0</td>\n",
              "    </tr>\n",
              "    <tr>\n",
              "      <th>183</th>\n",
              "      <td>1</td>\n",
              "      <td>10</td>\n",
              "      <td>7</td>\n",
              "      <td>JFK</td>\n",
              "      <td>SEA</td>\n",
              "      <td>1615</td>\n",
              "      <td>0.0</td>\n",
              "    </tr>\n",
              "    <tr>\n",
              "      <th>184</th>\n",
              "      <td>1</td>\n",
              "      <td>10</td>\n",
              "      <td>7</td>\n",
              "      <td>MSP</td>\n",
              "      <td>DTW</td>\n",
              "      <td>625</td>\n",
              "      <td>1.0</td>\n",
              "    </tr>\n",
              "  </tbody>\n",
              "</table>\n",
              "</div>"
            ],
            "text/plain": [
              "     MONTH  DAY_OF_MONTH  DAY_OF_WEEK ORIGIN DEST  CRS_DEP_TIME  ARR_DEL15\n",
              "177      1             9            6    MSP  SEA           701        1.0\n",
              "178      1             9            6    DTW  JFK          1527        0.0\n",
              "179      1            10            7    MSP  DTW          1348        1.0\n",
              "180      1            10            7    DTW  MSP          1540        0.0\n",
              "181      1            10            7    JFK  ATL          1325        0.0\n",
              "182      1            10            7    JFK  ATL           610        0.0\n",
              "183      1            10            7    JFK  SEA          1615        0.0\n",
              "184      1            10            7    MSP  DTW           625        1.0"
            ]
          },
          "execution_count": 9,
          "metadata": {},
          "output_type": "execute_result"
        }
      ],
      "source": [
        "df = df.fillna({'ARR_DEL15': 1})\n",
        "df.iloc[177:185]"
      ]
    },
    {
      "cell_type": "markdown",
      "metadata": {},
      "source": [
        "## DataFrame with unbinned departure times"
      ]
    },
    {
      "cell_type": "code",
      "execution_count": 10,
      "metadata": {
        "trusted": true
      },
      "outputs": [
        {
          "data": {
            "text/html": [
              "<div>\n",
              "<style scoped>\n",
              "    .dataframe tbody tr th:only-of-type {\n",
              "        vertical-align: middle;\n",
              "    }\n",
              "\n",
              "    .dataframe tbody tr th {\n",
              "        vertical-align: top;\n",
              "    }\n",
              "\n",
              "    .dataframe thead th {\n",
              "        text-align: right;\n",
              "    }\n",
              "</style>\n",
              "<table border=\"1\" class=\"dataframe\">\n",
              "  <thead>\n",
              "    <tr style=\"text-align: right;\">\n",
              "      <th></th>\n",
              "      <th>MONTH</th>\n",
              "      <th>DAY_OF_MONTH</th>\n",
              "      <th>DAY_OF_WEEK</th>\n",
              "      <th>ORIGIN</th>\n",
              "      <th>DEST</th>\n",
              "      <th>CRS_DEP_TIME</th>\n",
              "      <th>ARR_DEL15</th>\n",
              "    </tr>\n",
              "  </thead>\n",
              "  <tbody>\n",
              "    <tr>\n",
              "      <th>0</th>\n",
              "      <td>1</td>\n",
              "      <td>1</td>\n",
              "      <td>5</td>\n",
              "      <td>ATL</td>\n",
              "      <td>SEA</td>\n",
              "      <td>1905</td>\n",
              "      <td>0.0</td>\n",
              "    </tr>\n",
              "    <tr>\n",
              "      <th>1</th>\n",
              "      <td>1</td>\n",
              "      <td>1</td>\n",
              "      <td>5</td>\n",
              "      <td>DTW</td>\n",
              "      <td>MSP</td>\n",
              "      <td>1345</td>\n",
              "      <td>0.0</td>\n",
              "    </tr>\n",
              "    <tr>\n",
              "      <th>2</th>\n",
              "      <td>1</td>\n",
              "      <td>1</td>\n",
              "      <td>5</td>\n",
              "      <td>ATL</td>\n",
              "      <td>SEA</td>\n",
              "      <td>940</td>\n",
              "      <td>0.0</td>\n",
              "    </tr>\n",
              "    <tr>\n",
              "      <th>3</th>\n",
              "      <td>1</td>\n",
              "      <td>1</td>\n",
              "      <td>5</td>\n",
              "      <td>SEA</td>\n",
              "      <td>MSP</td>\n",
              "      <td>819</td>\n",
              "      <td>0.0</td>\n",
              "    </tr>\n",
              "    <tr>\n",
              "      <th>4</th>\n",
              "      <td>1</td>\n",
              "      <td>1</td>\n",
              "      <td>5</td>\n",
              "      <td>SEA</td>\n",
              "      <td>DTW</td>\n",
              "      <td>2300</td>\n",
              "      <td>0.0</td>\n",
              "    </tr>\n",
              "  </tbody>\n",
              "</table>\n",
              "</div>"
            ],
            "text/plain": [
              "   MONTH  DAY_OF_MONTH  DAY_OF_WEEK ORIGIN DEST  CRS_DEP_TIME  ARR_DEL15\n",
              "0      1             1            5    ATL  SEA          1905        0.0\n",
              "1      1             1            5    DTW  MSP          1345        0.0\n",
              "2      1             1            5    ATL  SEA           940        0.0\n",
              "3      1             1            5    SEA  MSP           819        0.0\n",
              "4      1             1            5    SEA  DTW          2300        0.0"
            ]
          },
          "execution_count": 10,
          "metadata": {},
          "output_type": "execute_result"
        }
      ],
      "source": [
        "df.head()"
      ]
    },
    {
      "cell_type": "markdown",
      "metadata": {},
      "source": [
        "## DataFrame with binned departure times"
      ]
    },
    {
      "cell_type": "code",
      "execution_count": 11,
      "metadata": {
        "trusted": true
      },
      "outputs": [
        {
          "data": {
            "text/html": [
              "<div>\n",
              "<style scoped>\n",
              "    .dataframe tbody tr th:only-of-type {\n",
              "        vertical-align: middle;\n",
              "    }\n",
              "\n",
              "    .dataframe tbody tr th {\n",
              "        vertical-align: top;\n",
              "    }\n",
              "\n",
              "    .dataframe thead th {\n",
              "        text-align: right;\n",
              "    }\n",
              "</style>\n",
              "<table border=\"1\" class=\"dataframe\">\n",
              "  <thead>\n",
              "    <tr style=\"text-align: right;\">\n",
              "      <th></th>\n",
              "      <th>MONTH</th>\n",
              "      <th>DAY_OF_MONTH</th>\n",
              "      <th>DAY_OF_WEEK</th>\n",
              "      <th>ORIGIN</th>\n",
              "      <th>DEST</th>\n",
              "      <th>CRS_DEP_TIME</th>\n",
              "      <th>ARR_DEL15</th>\n",
              "    </tr>\n",
              "  </thead>\n",
              "  <tbody>\n",
              "    <tr>\n",
              "      <th>0</th>\n",
              "      <td>1</td>\n",
              "      <td>1</td>\n",
              "      <td>5</td>\n",
              "      <td>ATL</td>\n",
              "      <td>SEA</td>\n",
              "      <td>1</td>\n",
              "      <td>0.0</td>\n",
              "    </tr>\n",
              "    <tr>\n",
              "      <th>1</th>\n",
              "      <td>1</td>\n",
              "      <td>1</td>\n",
              "      <td>5</td>\n",
              "      <td>DTW</td>\n",
              "      <td>MSP</td>\n",
              "      <td>1</td>\n",
              "      <td>0.0</td>\n",
              "    </tr>\n",
              "    <tr>\n",
              "      <th>2</th>\n",
              "      <td>1</td>\n",
              "      <td>1</td>\n",
              "      <td>5</td>\n",
              "      <td>ATL</td>\n",
              "      <td>SEA</td>\n",
              "      <td>0</td>\n",
              "      <td>0.0</td>\n",
              "    </tr>\n",
              "    <tr>\n",
              "      <th>3</th>\n",
              "      <td>1</td>\n",
              "      <td>1</td>\n",
              "      <td>5</td>\n",
              "      <td>SEA</td>\n",
              "      <td>MSP</td>\n",
              "      <td>0</td>\n",
              "      <td>0.0</td>\n",
              "    </tr>\n",
              "    <tr>\n",
              "      <th>4</th>\n",
              "      <td>1</td>\n",
              "      <td>1</td>\n",
              "      <td>5</td>\n",
              "      <td>SEA</td>\n",
              "      <td>DTW</td>\n",
              "      <td>2</td>\n",
              "      <td>0.0</td>\n",
              "    </tr>\n",
              "  </tbody>\n",
              "</table>\n",
              "</div>"
            ],
            "text/plain": [
              "   MONTH  DAY_OF_MONTH  DAY_OF_WEEK ORIGIN DEST  CRS_DEP_TIME  ARR_DEL15\n",
              "0      1             1            5    ATL  SEA             1        0.0\n",
              "1      1             1            5    DTW  MSP             1        0.0\n",
              "2      1             1            5    ATL  SEA             0        0.0\n",
              "3      1             1            5    SEA  MSP             0        0.0\n",
              "4      1             1            5    SEA  DTW             2        0.0"
            ]
          },
          "execution_count": 11,
          "metadata": {},
          "output_type": "execute_result"
        }
      ],
      "source": [
        "import math\n",
        "\n",
        "df.CRS_DEP_TIME = df.CRS_DEP_TIME.apply(lambda x: int(math.floor(x)*0.001))\n",
        "df.head()"
      ]
    },
    {
      "cell_type": "markdown",
      "metadata": {},
      "source": [
        "## DataFrame with indicator columns from the ORIGN and DEST column"
      ]
    },
    {
      "cell_type": "code",
      "execution_count": 12,
      "metadata": {
        "trusted": true
      },
      "outputs": [
        {
          "data": {
            "text/html": [
              "<div>\n",
              "<style scoped>\n",
              "    .dataframe tbody tr th:only-of-type {\n",
              "        vertical-align: middle;\n",
              "    }\n",
              "\n",
              "    .dataframe tbody tr th {\n",
              "        vertical-align: top;\n",
              "    }\n",
              "\n",
              "    .dataframe thead th {\n",
              "        text-align: right;\n",
              "    }\n",
              "</style>\n",
              "<table border=\"1\" class=\"dataframe\">\n",
              "  <thead>\n",
              "    <tr style=\"text-align: right;\">\n",
              "      <th></th>\n",
              "      <th>MONTH</th>\n",
              "      <th>DAY_OF_MONTH</th>\n",
              "      <th>DAY_OF_WEEK</th>\n",
              "      <th>CRS_DEP_TIME</th>\n",
              "      <th>ARR_DEL15</th>\n",
              "      <th>ORIGIN_ATL</th>\n",
              "      <th>ORIGIN_DTW</th>\n",
              "      <th>ORIGIN_JFK</th>\n",
              "      <th>ORIGIN_MSP</th>\n",
              "      <th>ORIGIN_SEA</th>\n",
              "      <th>DEST_ATL</th>\n",
              "      <th>DEST_DTW</th>\n",
              "      <th>DEST_JFK</th>\n",
              "      <th>DEST_MSP</th>\n",
              "      <th>DEST_SEA</th>\n",
              "    </tr>\n",
              "  </thead>\n",
              "  <tbody>\n",
              "    <tr>\n",
              "      <th>0</th>\n",
              "      <td>1</td>\n",
              "      <td>1</td>\n",
              "      <td>5</td>\n",
              "      <td>1</td>\n",
              "      <td>0.0</td>\n",
              "      <td>1</td>\n",
              "      <td>0</td>\n",
              "      <td>0</td>\n",
              "      <td>0</td>\n",
              "      <td>0</td>\n",
              "      <td>0</td>\n",
              "      <td>0</td>\n",
              "      <td>0</td>\n",
              "      <td>0</td>\n",
              "      <td>1</td>\n",
              "    </tr>\n",
              "    <tr>\n",
              "      <th>1</th>\n",
              "      <td>1</td>\n",
              "      <td>1</td>\n",
              "      <td>5</td>\n",
              "      <td>1</td>\n",
              "      <td>0.0</td>\n",
              "      <td>0</td>\n",
              "      <td>1</td>\n",
              "      <td>0</td>\n",
              "      <td>0</td>\n",
              "      <td>0</td>\n",
              "      <td>0</td>\n",
              "      <td>0</td>\n",
              "      <td>0</td>\n",
              "      <td>1</td>\n",
              "      <td>0</td>\n",
              "    </tr>\n",
              "    <tr>\n",
              "      <th>2</th>\n",
              "      <td>1</td>\n",
              "      <td>1</td>\n",
              "      <td>5</td>\n",
              "      <td>0</td>\n",
              "      <td>0.0</td>\n",
              "      <td>1</td>\n",
              "      <td>0</td>\n",
              "      <td>0</td>\n",
              "      <td>0</td>\n",
              "      <td>0</td>\n",
              "      <td>0</td>\n",
              "      <td>0</td>\n",
              "      <td>0</td>\n",
              "      <td>0</td>\n",
              "      <td>1</td>\n",
              "    </tr>\n",
              "    <tr>\n",
              "      <th>3</th>\n",
              "      <td>1</td>\n",
              "      <td>1</td>\n",
              "      <td>5</td>\n",
              "      <td>0</td>\n",
              "      <td>0.0</td>\n",
              "      <td>0</td>\n",
              "      <td>0</td>\n",
              "      <td>0</td>\n",
              "      <td>0</td>\n",
              "      <td>1</td>\n",
              "      <td>0</td>\n",
              "      <td>0</td>\n",
              "      <td>0</td>\n",
              "      <td>1</td>\n",
              "      <td>0</td>\n",
              "    </tr>\n",
              "    <tr>\n",
              "      <th>4</th>\n",
              "      <td>1</td>\n",
              "      <td>1</td>\n",
              "      <td>5</td>\n",
              "      <td>2</td>\n",
              "      <td>0.0</td>\n",
              "      <td>0</td>\n",
              "      <td>0</td>\n",
              "      <td>0</td>\n",
              "      <td>0</td>\n",
              "      <td>1</td>\n",
              "      <td>0</td>\n",
              "      <td>1</td>\n",
              "      <td>0</td>\n",
              "      <td>0</td>\n",
              "      <td>0</td>\n",
              "    </tr>\n",
              "  </tbody>\n",
              "</table>\n",
              "</div>"
            ],
            "text/plain": [
              "   MONTH  DAY_OF_MONTH  DAY_OF_WEEK  CRS_DEP_TIME  ARR_DEL15  ORIGIN_ATL  \\\n",
              "0      1             1            5             1        0.0           1   \n",
              "1      1             1            5             1        0.0           0   \n",
              "2      1             1            5             0        0.0           1   \n",
              "3      1             1            5             0        0.0           0   \n",
              "4      1             1            5             2        0.0           0   \n",
              "\n",
              "   ORIGIN_DTW  ORIGIN_JFK  ORIGIN_MSP  ORIGIN_SEA  DEST_ATL  DEST_DTW  \\\n",
              "0           0           0           0           0         0         0   \n",
              "1           1           0           0           0         0         0   \n",
              "2           0           0           0           0         0         0   \n",
              "3           0           0           0           1         0         0   \n",
              "4           0           0           0           1         0         1   \n",
              "\n",
              "   DEST_JFK  DEST_MSP  DEST_SEA  \n",
              "0         0         0         1  \n",
              "1         0         1         0  \n",
              "2         0         0         1  \n",
              "3         0         1         0  \n",
              "4         0         0         0  "
            ]
          },
          "execution_count": 12,
          "metadata": {},
          "output_type": "execute_result"
        }
      ],
      "source": [
        "df = pd.get_dummies(df, columns=['ORIGIN', 'DEST'])\n",
        "df.head()"
      ]
    },
    {
      "cell_type": "markdown",
      "metadata": {},
      "source": [
        "## Splitting the dataset"
      ]
    },
    {
      "cell_type": "code",
      "execution_count": 13,
      "metadata": {
        "trusted": true
      },
      "outputs": [
        {
          "data": {
            "text/plain": [
              "<bound method NDFrame.head of        MONTH  DAY_OF_MONTH  DAY_OF_WEEK  CRS_DEP_TIME  ARR_DEL15  ORIGIN_ATL  \\\n",
              "0          1             1            5             1        0.0           1   \n",
              "1          1             1            5             1        0.0           0   \n",
              "2          1             1            5             0        0.0           1   \n",
              "3          1             1            5             0        0.0           0   \n",
              "4          1             1            5             2        0.0           0   \n",
              "...      ...           ...          ...           ...        ...         ...   \n",
              "11226     12            30            5             1        0.0           0   \n",
              "11227     12            30            5             1        0.0           0   \n",
              "11228     12            30            5             1        0.0           0   \n",
              "11229     12            30            5             1        0.0           1   \n",
              "11230     12            30            5             0        0.0           1   \n",
              "\n",
              "       ORIGIN_DTW  ORIGIN_JFK  ORIGIN_MSP  ORIGIN_SEA  DEST_ATL  DEST_DTW  \\\n",
              "0               0           0           0           0         0         0   \n",
              "1               1           0           0           0         0         0   \n",
              "2               0           0           0           0         0         0   \n",
              "3               0           0           0           1         0         0   \n",
              "4               0           0           0           1         0         1   \n",
              "...           ...         ...         ...         ...       ...       ...   \n",
              "11226           1           0           0           0         1         0   \n",
              "11227           0           0           0           1         0         0   \n",
              "11228           1           0           0           0         0         0   \n",
              "11229           0           0           0           0         0         0   \n",
              "11230           0           0           0           0         0         1   \n",
              "\n",
              "       DEST_JFK  DEST_MSP  DEST_SEA  \n",
              "0             0         0         1  \n",
              "1             0         1         0  \n",
              "2             0         0         1  \n",
              "3             0         1         0  \n",
              "4             0         0         0  \n",
              "...         ...       ...       ...  \n",
              "11226         0         0         0  \n",
              "11227         0         1         0  \n",
              "11228         0         0         1  \n",
              "11229         0         0         1  \n",
              "11230         0         0         0  \n",
              "\n",
              "[11231 rows x 15 columns]>"
            ]
          },
          "execution_count": 13,
          "metadata": {},
          "output_type": "execute_result"
        }
      ],
      "source": [
        "from sklearn.model_selection import train_test_split\n",
        "train_x, test_x, train_y, test_y = train_test_split(df.drop('ARR_DEL15', axis=1), df['ARR_DEL15'], test_size=0.2, random_state=42)\n",
        "df.head"
      ]
    },
    {
      "cell_type": "markdown",
      "metadata": {},
      "source": [
        "## Displaying the number of rows and columns in the DataFrame containing the feature columns used for training "
      ]
    },
    {
      "cell_type": "code",
      "execution_count": 14,
      "metadata": {
        "trusted": true
      },
      "outputs": [
        {
          "data": {
            "text/plain": [
              "(8984, 14)"
            ]
          },
          "execution_count": 14,
          "metadata": {},
          "output_type": "execute_result"
        }
      ],
      "source": [
        "train_x.shape"
      ]
    },
    {
      "cell_type": "markdown",
      "metadata": {},
      "source": [
        "## Displaying the number of rows and columns in the DataFrame containing the feature columns used for testing "
      ]
    },
    {
      "cell_type": "code",
      "execution_count": 15,
      "metadata": {
        "trusted": true
      },
      "outputs": [
        {
          "data": {
            "text/plain": [
              "(2247, 14)"
            ]
          },
          "execution_count": 15,
          "metadata": {},
          "output_type": "execute_result"
        }
      ],
      "source": [
        "test_x.shape"
      ]
    },
    {
      "cell_type": "markdown",
      "metadata": {},
      "source": [
        "# Building a Machine Learning Model"
      ]
    },
    {
      "cell_type": "markdown",
      "metadata": {},
      "source": [
        "## Creating a RandomForestClassifer object and training it by calling the fit method"
      ]
    },
    {
      "cell_type": "code",
      "execution_count": 16,
      "metadata": {
        "trusted": true
      },
      "outputs": [
        {
          "data": {
            "text/plain": [
              "RandomForestClassifier(random_state=12)"
            ]
          },
          "execution_count": 16,
          "metadata": {},
          "output_type": "execute_result"
        }
      ],
      "source": [
        "from sklearn.ensemble import RandomForestClassifier\n",
        "\n",
        "model = RandomForestClassifier(random_state=12)\n",
        "model.fit(train_x, train_y)"
      ]
    },
    {
      "cell_type": "markdown",
      "metadata": {},
      "source": [
        "## Calling predict to test the model and score to determine the accuracy "
      ]
    },
    {
      "cell_type": "code",
      "execution_count": 17,
      "metadata": {
        "trusted": true
      },
      "outputs": [
        {
          "data": {
            "text/plain": [
              "0.8549176680017802"
            ]
          },
          "execution_count": 17,
          "metadata": {},
          "output_type": "execute_result"
        }
      ],
      "source": [
        "predicted = model.predict(test_x)\n",
        "model.score(test_x, test_y)"
      ]
    },
    {
      "cell_type": "markdown",
      "metadata": {},
      "source": [
        "## Finding probabilities that a flight will arrive on time or not "
      ]
    },
    {
      "cell_type": "code",
      "execution_count": 18,
      "metadata": {
        "trusted": true
      },
      "outputs": [
        {
          "name": "stdout",
          "output_type": "stream",
          "text": [
            "[[1.         0.        ]\n",
            " [0.96       0.04      ]\n",
            " [0.91083333 0.08916667]\n",
            " ...\n",
            " [0.93516667 0.06483333]\n",
            " [0.99       0.01      ]\n",
            " [1.         0.        ]]\n"
          ]
        }
      ],
      "source": [
        "from sklearn.metrics import roc_auc_score\n",
        "probabilities = model.predict_proba(test_x)\n",
        "print (probabilities)"
      ]
    },
    {
      "cell_type": "markdown",
      "metadata": {},
      "source": [
        "# Checking accuracy of our Model"
      ]
    },
    {
      "cell_type": "markdown",
      "metadata": {},
      "source": [
        "## Finding how often the model will make a correct prediction regardless of the outcome"
      ]
    },
    {
      "cell_type": "code",
      "execution_count": 19,
      "metadata": {},
      "outputs": [
        {
          "data": {
            "text/plain": [
              "0.6951374863809093"
            ]
          },
          "execution_count": 19,
          "metadata": {},
          "output_type": "execute_result"
        }
      ],
      "source": [
        "roc_auc_score(test_y,probabilities[:, 1])"
      ]
    },
    {
      "cell_type": "markdown",
      "metadata": {},
      "source": [
        "## Generating a confusion matrix"
      ]
    },
    {
      "cell_type": "code",
      "execution_count": 20,
      "metadata": {
        "trusted": true
      },
      "outputs": [
        {
          "data": {
            "text/plain": [
              "array([[1847,   89],\n",
              "       [ 237,   74]], dtype=int64)"
            ]
          },
          "execution_count": 20,
          "metadata": {},
          "output_type": "execute_result"
        }
      ],
      "source": [
        "from sklearn.metrics import confusion_matrix\n",
        "confusion_matrix(test_y, predicted)"
      ]
    },
    {
      "cell_type": "markdown",
      "metadata": {},
      "source": [
        "## Measuring precision "
      ]
    },
    {
      "cell_type": "code",
      "execution_count": 21,
      "metadata": {
        "trusted": true
      },
      "outputs": [
        {
          "data": {
            "text/plain": [
              "0.93488824101069"
            ]
          },
          "execution_count": 21,
          "metadata": {},
          "output_type": "execute_result"
        }
      ],
      "source": [
        "from sklearn.metrics import precision_score\n",
        "\n",
        "train_predictions = model.predict(train_x)\n",
        "precision_score(train_y, train_predictions)"
      ]
    },
    {
      "cell_type": "markdown",
      "metadata": {},
      "source": [
        "## Measuring recall"
      ]
    },
    {
      "cell_type": "code",
      "execution_count": 22,
      "metadata": {
        "trusted": true
      },
      "outputs": [
        {
          "data": {
            "text/plain": [
              "0.768370607028754"
            ]
          },
          "execution_count": 22,
          "metadata": {},
          "output_type": "execute_result"
        }
      ],
      "source": [
        "from sklearn.metrics import recall_score\n",
        "\n",
        "recall_score(train_y, train_predictions)"
      ]
    },
    {
      "cell_type": "markdown",
      "metadata": {},
      "source": [
        "# Plotting ROC curve for visualization"
      ]
    },
    {
      "cell_type": "markdown",
      "metadata": {},
      "source": [
        "## imporing libraries for visualization"
      ]
    },
    {
      "cell_type": "code",
      "execution_count": 23,
      "metadata": {},
      "outputs": [],
      "source": [
        "import matplotlib.pyplot as plt \n",
        "import seaborn as sns\n",
        "\n",
        "sns.set()"
      ]
    },
    {
      "cell_type": "markdown",
      "metadata": {},
      "source": [
        "## Plotting ROC curve"
      ]
    },
    {
      "cell_type": "code",
      "execution_count": 24,
      "metadata": {},
      "outputs": [
        {
          "data": {
            "image/png": "[encoded data removed]",
            "text/plain": [
              "<Figure size 432x288 with 1 Axes>"
            ]
          },
          "metadata": {},
          "output_type": "display_data"
        }
      ],
      "source": [
        "from sklearn.metrics import roc_curve\n",
        "\n",
        "fpr, tpr, _ = roc_curve(test_y,probabilities[:, 1])\n",
        "plt.plot(fpr,tpr)\n",
        "plt.plot([0,1],[0,1],color='grey',lw=1,LineStyle='--')\n",
        "plt.xlabel('False Positive Rate')\n",
        "plt.ylabel('True Positive Rate')\n",
        "plt.show()"
      ]
    },
    {
      "cell_type": "markdown",
      "metadata": {},
      "source": [
        "# Creating a function for prediction of delay"
      ]
    },
    {
      "cell_type": "markdown",
      "metadata": {},
      "source": [
        "## Function to check if the flight will be on time or not "
      ]
    },
    {
      "cell_type": "code",
      "execution_count": 25,
      "metadata": {
        "trusted": true
      },
      "outputs": [],
      "source": [
        "def predict_delay(departure_date_time, origin, destination):\n",
        "    from datetime import datetime\n",
        "    \n",
        "    try:\n",
        "        departure_date_time_parsed = datetime.strptime(departure_date_time, '%d/%m/%Y %H:%M:%S')\n",
        "    except ValueError as e:\n",
        "        return 'Error parsing date/time - {}'.format(e)\n",
        "\n",
        "    month = departure_date_time_parsed.month\n",
        "    day = departure_date_time_parsed.day\n",
        "    day_of_week = departure_date_time_parsed.isoweekday()\n",
        "    hour = departure_date_time_parsed.hour\n",
        "\n",
        "    origin = origin.upper()\n",
        "    destination = destination.upper()\n",
        "\n",
        "    input = [{'MONTH': month,\n",
        "              'DAY': day,\n",
        "              'DAY_OF_WEEK': day_of_week,\n",
        "              'CRS_DEP_TIME': hour,\n",
        "              'ORIGIN_ATL': 1 if origin == 'ATL' else 0,\n",
        "              'ORIGIN_DTW': 1 if origin == 'DTW' else 0,\n",
        "              'ORIGIN_JFK': 1 if origin == 'JFK' else 0,\n",
        "              'ORIGIN_MSP': 1 if origin == 'MSP' else 0,\n",
        "              'ORIGIN_SEA': 1 if origin == 'SEA' else 0,\n",
        "              'DEST_ATL': 1 if destination == 'ATL' else 0,\n",
        "              'DEST_DTW': 1 if destination == 'DTW' else 0,\n",
        "              'DEST_JFK': 1 if destination == 'JFK' else 0,\n",
        "              'DEST_MSP': 1 if destination == 'MSP' else 0,\n",
        "              'DEST_SEA': 1 if destination == 'SEA' else 0 }]\n",
        "\n",
        "    return model.predict_proba(pd.DataFrame(input))[0][0]"
      ]
    },
    {
      "cell_type": "markdown",
      "metadata": {},
      "source": [
        "# Using our function to predict delay"
      ]
    },
    {
      "cell_type": "markdown",
      "metadata": {},
      "source": [
        "## Predicting whether a flight will arrive on time"
      ]
    },
    {
      "cell_type": "code",
      "execution_count": 26,
      "metadata": {
        "trusted": true
      },
      "outputs": [
        {
          "data": {
            "text/plain": [
              "0.7016666666666665"
            ]
          },
          "execution_count": 26,
          "metadata": {},
          "output_type": "execute_result"
        }
      ],
      "source": [
        "predict_delay('1/10/2018 21:45:00', 'JFK', 'ATL')"
      ]
    },
    {
      "cell_type": "markdown",
      "metadata": {},
      "source": [
        "## Checking for the same flight on next day"
      ]
    },
    {
      "cell_type": "code",
      "execution_count": 27,
      "metadata": {
        "trusted": true
      },
      "outputs": [
        {
          "data": {
            "text/plain": [
              "0.929"
            ]
          },
          "execution_count": 27,
          "metadata": {},
          "output_type": "execute_result"
        }
      ],
      "source": [
        "predict_delay('2/10/2018 21:45:00', 'JFK', 'ATL')"
      ]
    },
    {
      "cell_type": "markdown",
      "metadata": {},
      "source": [
        "## Checking for the morning flight"
      ]
    },
    {
      "cell_type": "code",
      "execution_count": 28,
      "metadata": {
        "trusted": true
      },
      "outputs": [
        {
          "data": {
            "text/plain": [
              "0.965"
            ]
          },
          "execution_count": 28,
          "metadata": {},
          "output_type": "execute_result"
        }
      ],
      "source": [
        "predict_delay('2/10/2018 10:00:00', 'ATL', 'SEA')"
      ]
    },
    {
      "cell_type": "markdown",
      "metadata": {},
      "source": [
        "# Using graph to show our prediction"
      ]
    },
    {
      "cell_type": "markdown",
      "metadata": {},
      "source": [
        "## Probability of on-time arrivals for an evening flight from JFK to ATL over a range of days"
      ]
    },
    {
      "cell_type": "code",
      "execution_count": 29,
      "metadata": {
        "trusted": true
      },
      "outputs": [
        {
          "data": {
            "image/png": "[encoded data removed]",
            "text/plain": [
              "<Figure size 432x288 with 1 Axes>"
            ]
          },
          "metadata": {},
          "output_type": "display_data"
        }
      ],
      "source": [
        "import numpy as np\n",
        "\n",
        "labels = ('Oct 1', 'Oct 2', 'Oct 3', 'Oct 4', 'Oct 5', 'Oct 6', 'Oct 7')\n",
        "values = (predict_delay('01/10/2018' ' 21:45:00', 'JFK', 'ATL'),\n",
        "          predict_delay('02/10/2018' ' 21:45:00', 'JFK', 'ATL'),\n",
        "          predict_delay('03/10/2018' ' 21:45:00', 'JFK', 'ATL'),\n",
        "          predict_delay('04/10/2018' ' 21:45:00', 'JFK', 'ATL'),\n",
        "          predict_delay('05/10/2018' ' 21:45:00', 'JFK', 'ATL'),\n",
        "          predict_delay('06/10/2018' ' 21:45:00', 'JFK', 'ATL'),\n",
        "          predict_delay('07/10/2018' ' 21:45:00', 'JFK', 'ATL'),)\n",
        "alabels = np.arange(len(labels))\n",
        "\n",
        "plt.bar(alabels, values, align='center', alpha = 0.5)\n",
        "plt.xticks(alabels, labels)\n",
        "plt.ylabel('probability of On-Time Arrival')\n",
        "plt.title('probability of On-Time Arrival VS Dates')\n",
        "plt.show()"
      ]
    },
    {
      "cell_type": "markdown",
      "metadata": {},
      "source": [
        "## Prediction for flights leaving JFK for MSP"
      ]
    },
    {
      "cell_type": "code",
      "execution_count": 30,
      "metadata": {},
      "outputs": [
        {
          "data": {
            "image/png": "[encoded data removed]",
            "text/plain": [
              "<Figure size 432x288 with 1 Axes>"
            ]
          },
          "metadata": {},
          "output_type": "display_data"
        }
      ],
      "source": [
        "labels = ('May 1', 'May 2', 'May 3', 'May 4', 'May 5', 'May 6', 'May 7')\n",
        "values = (predict_delay('1/5/2018' ' 21:45:00', 'JFK', 'MSP'),\n",
        "          predict_delay('2/5/2018' ' 21:45:00', 'JFK', 'MSP'),\n",
        "          predict_delay('3/5/2018' ' 21:45:00', 'JFK', 'MSP'),\n",
        "          predict_delay('4/5/2018' ' 21:45:00', 'JFK', 'MSP'),\n",
        "          predict_delay('5/5/2018' ' 21:45:00', 'JFK', 'MSP'),\n",
        "          predict_delay('6/5/2018' ' 21:45:00', 'JFK', 'MSP'),\n",
        "          predict_delay('7/5/2018' ' 21:45:00', 'JFK', 'MSP'),)\n",
        "alabels = np.arange(len(labels))\n",
        "\n",
        "plt.bar(alabels, values, align='center', alpha = 0.5)\n",
        "plt.xticks(alabels, labels)\n",
        "plt.ylabel('probability of On-Time Arrival')\n",
        "plt.title('probability of On-Time Arrival VS Dates')\n",
        "plt.show()"
      ]
    },
    {
      "cell_type": "code",
      "execution_count": null,
      "metadata": {},
      "outputs": [],
      "source": []
    }
  ],
  "metadata": {
    "interpreter": {
      "hash": "e1065e16cb979fc236d435c38245936c1564a2f9907d9c3a1b5acf54dd047cb8"
    },
    "kernelspec": {
      "display_name": "Python 3.9.7 64-bit (windows store)",
      "name": "python3"
    },
    "language_info": {
      "codemirror_mode": {
        "name": "ipython",
        "version": 3
      },
      "file_extension": ".py",
      "mimetype": "text/x-python",
      "name": "python",
      "nbconvert_exporter": "python",
      "pygments_lexer": "ipython3",
      "version": "3.9.7"
    }
  },
  "nbformat": 4,
  "nbformat_minor": 2
}
